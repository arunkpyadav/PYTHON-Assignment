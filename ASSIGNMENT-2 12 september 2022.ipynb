{
 "cells": [
  {
   "cell_type": "code",
   "execution_count": 1,
   "id": "12054280",
   "metadata": {},
   "outputs": [
    {
     "name": "stdout",
     "output_type": "stream",
     "text": [
      "This is original string = we will become data engineer\n",
      "we\n",
      "will\n",
      "become\n",
      "data\n",
      "engineer\n"
     ]
    }
   ],
   "source": [
    "#Write a program to split a given string on hyphens and display each substring.\n",
    "\n",
    "str1 = \"we will become data engineer\"\n",
    "print('This is original string','=',str1)\n",
    "\n",
    "# split string\n",
    "sp_string = str1.split()\n",
    "for split in sp_string:           #printing substring as split\n",
    "    print(split)"
   ]
  },
  {
   "cell_type": "code",
   "execution_count": 3,
   "id": "7315e1ab",
   "metadata": {},
   "outputs": [
    {
     "name": "stdout",
     "output_type": "stream",
     "text": [
      "I59is\n",
      "scientist50\n"
     ]
    }
   ],
   "source": [
    "#Write a program to find words with both alphabets and numbers from an input string.\n",
    "#Str1 = “I50 is a Data Scientist50 and AI Expert”\n",
    "#Output : I50 Scientist50\n",
    "\n",
    "Str1 = [\"I59is a data scientist50 and AI Expert\"]\n",
    "\n",
    "for i in Str1:\n",
    "    for st in i.split(' '):\n",
    "        if st.isalnum() and not st.isalpha() and not st.isdigit():\n",
    "            print (st)"
   ]
  },
  {
   "cell_type": "code",
   "execution_count": 5,
   "id": "5ba7d5b3",
   "metadata": {},
   "outputs": [
    {
     "name": "stdout",
     "output_type": "stream",
     "text": [
      "Enter your string herepythonnss\n",
      "pythons\n"
     ]
    }
   ],
   "source": [
    "str1 = input('Enter your string here')\n",
    "#converting the characters of string into a set elements to remove dublicacy.\n",
    "#use join() function to join all the remaining set elements together.\n",
    "result=\"\".join(dict.fromkeys(str1))\n",
    "print(result)"
   ]
  },
  {
   "cell_type": "code",
   "execution_count": 2,
   "id": "5a09adb5",
   "metadata": {},
   "outputs": [
    {
     "name": "stdout",
     "output_type": "stream",
     "text": [
      "[3, 4, 5, 6, 7, 8, 67, 89]\n"
     ]
    }
   ],
   "source": [
    "#Write a Python program to remove duplicates from a list.\n",
    "\n",
    "duplicate = [3,4,5,6,7,8,6,5,4,3,67,6,89,7,8,6,5,89]\n",
    "print(list(set(duplicate)))"
   ]
  },
  {
   "cell_type": "code",
   "execution_count": null,
   "id": "4d63c2b3",
   "metadata": {},
   "outputs": [],
   "source": []
  }
 ],
 "metadata": {
  "kernelspec": {
   "display_name": "Python 3 (ipykernel)",
   "language": "python",
   "name": "python3"
  },
  "language_info": {
   "codemirror_mode": {
    "name": "ipython",
    "version": 3
   },
   "file_extension": ".py",
   "mimetype": "text/x-python",
   "name": "python",
   "nbconvert_exporter": "python",
   "pygments_lexer": "ipython3",
   "version": "3.10.6"
  }
 },
 "nbformat": 4,
 "nbformat_minor": 5
}
